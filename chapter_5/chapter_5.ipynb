{
 "cells": [
  {
   "cell_type": "markdown",
   "metadata": {},
   "source": [
    "# Chapter 5    \n",
    "\n",
    "\n",
    "## Introduction\n",
    "Deep learning requires comprehensive knowledge of the building blocks of traditional machine learning.  That includes understanding the difference between supervised and unsupervised learning, which Hyperparameters to tune, and whether to use frequentist estimators or Bayesian inference.   \n",
    "\n",
    "## 5.1 Learning Algorithms     \n",
    "> “A computer\n",
    "program is said to learn from experience E with respect to some class of tasks T\n",
    "and performance measure P , if its performance at tasks in T , as measured by P ,\n",
    "improves with experience E.”\n",
    "> - Mitchell (1997)\n",
    "\n",
    "### 5.1.1 The Task, $T$\n",
    "Machine learning tasks are usually described in terms of how the machine learning system should process an __example__.  An example is a collection of **features** that have been quantitatively measure from some object or event.  An example is a typically a vector __x__ in $R^{n}$.  Using this vector, many problems can be solved by machine learning:\n",
    "- Classification: given $x_{i}$, label y\n",
    "- Classification with missing values: given a partial $x_{i}$, label y\n",
    "- Regression: given $x_{i}$, output a continuous value of y\n",
    "- Transcription: given $x_{i}$, write out a text version of y\n",
    "- Machine Translation: take a $x_{i}$ (typically the origination language) and translate it into $y_{i}$ (the destination language)\n",
    "- Structured Output: take a collection, say $x_{i}$ and map it back to a smaller group $y_{j}$.  Think mapping a collection of words back to noun, adjective, or verbs.  \n",
    "- Anomaly Detection: think misuse of credit cards\n",
    "- Synthesis and sampling: think GAN generation of images or medical claims data\n",
    "- Imputation of Missing Values: given a set $x_{i}$ but with j entries missing, the algorithm must predict what those values are\n",
    "- Denoising: an algorithm is provided a messy $x_{i}$ and it maps it back to a clean $x_{i}$.  \n",
    "- "
   ]
  }
 ],
 "metadata": {
  "kernelspec": {
   "display_name": "Python 3",
   "language": "python",
   "name": "python3"
  },
  "language_info": {
   "codemirror_mode": {
    "name": "ipython",
    "version": 3
   },
   "file_extension": ".py",
   "mimetype": "text/x-python",
   "name": "python",
   "nbconvert_exporter": "python",
   "pygments_lexer": "ipython3",
   "version": "3.7.3"
  }
 },
 "nbformat": 4,
 "nbformat_minor": 2
}
