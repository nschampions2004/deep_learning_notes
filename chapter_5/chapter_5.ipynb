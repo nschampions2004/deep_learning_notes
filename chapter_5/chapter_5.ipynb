{
 "cells": [
  {
   "cell_type": "markdown",
   "metadata": {},
   "source": [
    "# Chapter 5    \n",
    "\n",
    "\n",
    "## Introduction\n",
    "Deep learning requires comprehensive knowledge of the building blocks of traditional machine learning.  That includes understanding the difference between supervised and unsupervised learning, which Hyperparameters to tune, and whether to use frequentist estimators or Bayesian inference.   \n",
    "\n",
    "## 5.1 Learning Algorithms     \n",
    "> “A computer\n",
    "program is said to learn from experience E with respect to some class of tasks T\n",
    "and performance measure P , if its performance at tasks in T , as measured by P ,\n",
    "improves with experience E.”\n",
    "> - Mitchell (1997)\n",
    "\n",
    "### 5.1.1 The Task, $T$\n",
    "Machine learning tasks are usually described in terms of how the machine learning system should process an __example__.  An example is a collection of **features** that have been quantitatively measure from some object or event.  An example is a typically a vector __x__ in $R^{n}$.  Using this vector, many problems can be solved by machine learning:\n",
    "- Classification: given $x_{i}$, label y\n",
    "- Classification with missing values: given a partial $x_{i}$, label y\n",
    "- Regression: given $x_{i}$, output a continuous value of y\n",
    "- Transcription: given $x_{i}$, write out a text version of y\n",
    "- Machine Translation: take a $x_{i}$ (typically the origination language) and translate it into $y_{i}$ (the destination language)\n",
    "- Structured Output: take a collection, say $x_{i}$ and map it back to a smaller group $y_{j}$.  Think mapping a collection of words back to noun, adjective, or verbs.  \n",
    "- Anomaly Detection: think misuse of credit cards\n",
    "- Synthesis and sampling: think GAN generation of images or medical claims data\n",
    "- Imputation of Missing Values: given a set $x_{i}$ but with j entries missing, the algorithm must predict what those values are\n",
    "- Denoising: an algorithm is provided a messy $x_{i}$ and it maps it back to a clean $x_{i}$.  \n",
    "- Density Estimation (probability mass function estimation): the algorithm is askes to learn a function that takes a vector __x__ and maps it to a probability density function if continuous and a probability mass function if discrete.  \n",
    "\n",
    "### 5.1.2 The Performance Measue, $P$    \n",
    "For tasks like classification, classification with missing inputs, and transcription, we usually use __accuracy__ to determine a model's performance.  Accuracy is the proportion of examples for which the model produces the correct output.  Additionally, the **error rate**, 1 - Accuracy, is helpful in determining model performance.  For density estimation, these two won't suffice.  The performance metric best used here is determined by reporting the average log-probability the model assigns to examples.  \n",
    "\n",
    "To account for the fact that models will be used in a production setting with data the model hasn't seen before, we split our data into training and test sets.  Then, we calculate the performance metric on that test split.  \n",
    "\n",
    "### 5.1.3 The Experience, $E$\n",
    "\n",
    "Machine learning algorithms can be broadly categorized as __unsupervised__ or **supervised** by what kind of experience they are allowed to have during the learning process.  Most tasks can and will experience the entire dataset when training.  On top of that, models from the realm of reinforcement learning will see data in addition to the whole dataset as they're meant to behave independently.  The factors to train on $x_{i}$ is called a __design matrix__.  Within supervised learning, the design matrix will be trained against a vector of labels, __y__.  \n",
    "\n",
    "### 5.1.4 Linear Regression: an Example\n",
    "Much, if not all, of the code listed below came from [here](https://colab.research.google.com/drive/1HL1HDCDhh1FiV-NckjfTYPd50K7H7wzi#scrollTo=uyKcSFJrbhRf&forceEdit=true&offline=true&sandboxMode=true).  Comments my own."
   ]
  },
  {
   "cell_type": "code",
   "execution_count": 1,
   "metadata": {},
   "outputs": [],
   "source": [
    "import numpy as np\n",
    "import tensorflow as tf\n",
    "import pandas as pd\n",
    "import matplotlib.pyplot as plt\n",
    "from sklearn.model_selection import train_test_split\n",
    "import os\n",
    "\n",
    "data = pd.read_csv('data/graduate-admissions/Admission_Predict_Ver1.1.csv')"
   ]
  },
  {
   "cell_type": "code",
   "execution_count": 2,
   "metadata": {},
   "outputs": [],
   "source": [
    "data.columns = [col_name.strip() for col_name in data.columns.tolist()]\n",
    "\n",
    "continuous_features = data[['GRE Score', 'TOEFL Score', 'University Rating', 'SOP', 'LOR', 'CGPA']].values / 100\n",
    "categorical_features = data[['Research']].values"
   ]
  },
  {
   "cell_type": "code",
   "execution_count": 3,
   "metadata": {},
   "outputs": [],
   "source": [
    "X = np.concatenate([continuous_features, categorical_features], axis = 1)\n",
    "y = data[['Chance of Admit']].values\n",
    "\n",
    "train_features, test_features, train_labels, test_labels = train_test_split(X, y, test_size = 0.2)"
   ]
  },
  {
   "cell_type": "code",
   "execution_count": 4,
   "metadata": {},
   "outputs": [],
   "source": [
    "X = tf.constant(train_features, dtype = tf.float32)\n",
    "y = tf.constant(train_labels, dtype = tf.float32)\n",
    "\n",
    "test_X = tf.constant(test_features, dtype = tf.float32)\n",
    "test_y = tf.constant(test_labels, dtype = tf.float32)"
   ]
  },
  {
   "cell_type": "code",
   "execution_count": 10,
   "metadata": {},
   "outputs": [],
   "source": [
    "# Custom performance functions\n",
    "# 1) MSE function\n",
    "# 2) The derivative of the mean squared error function\n",
    "# 3) Hypothesis function / Regression function\n",
    "\n",
    "def mean_squared_error( Y , y_pred ) -> tf.Tensor:\n",
    "    \"\"\"\n",
    "    Args: \n",
    "        Y: list of y's from the data\n",
    "        y_pred: y's predicted from model\n",
    "    \n",
    "    Returns:\n",
    "        The reduced tensor\n",
    "    \"\"\"\n",
    "    return tf.reduce_mean(tf.square(y_pred - Y ))\n",
    "\n",
    "def mean_squared_error_deriv( Y , y_pred ) -> tf.Tensor:\n",
    "    \"\"\"\n",
    "    Args:\n",
    "        Y: list of y's from the data\n",
    "        y_pred: y's predicted from model\n",
    "    Return: \n",
    "        The reduced tensor\n",
    "    \"\"\"\n",
    "    return tf.reshape( tf.reduce_mean( 2 * ( y_pred - Y ) ) , [ 1 , 1 ] )\n",
    "\n",
    "def h(X, weights, bias) -> tf.Tensor:\n",
    "    \"\"\" This is our hypothesis function.  It follows the form Y = WX + B which pertain\n",
    "    to the arguments of this function.  \n",
    "    Args: \n",
    "        X: a tensor of X values\n",
    "        weights: a tensor of weights to multiply the tensor of X's by\n",
    "        bias: a tensor to add on to our product\n",
    "    Return:\n",
    "        A tensor\n",
    "    \"\"\"\n",
    "    return tf.tensordot( X , weights , axes=1 ) + bias"
   ]
  },
  {
   "cell_type": "code",
   "execution_count": 15,
   "metadata": {},
   "outputs": [
    {
     "name": "stdout",
     "output_type": "stream",
     "text": [
      "Loss is 11.418600082397461\n",
      "Loss is 5.51230001449585\n",
      "Loss is 2.6654000282287598\n",
      "Loss is 1.2927000522613525\n",
      "Loss is 0.6308000087738037\n",
      "Loss is 0.31209999322891235\n",
      "Loss is 0.15850000083446503\n",
      "Loss is 0.08470000326633453\n",
      "Loss is 0.04919999837875366\n",
      "Loss is 0.032099999487400055\n"
     ]
    }
   ],
   "source": [
    "num_epochs = 10\n",
    "num_samples = X.shape[0]\n",
    "batch_size = 10\n",
    "learning_rate = 0.001\n",
    "\n",
    "# create the dataset from the original data\n",
    "dataset = tf.data.Dataset.from_tensor_slices(( X , y))\n",
    "dataset = dataset.shuffle( 500 ).repeat( num_epochs ).batch( batch_size )\n",
    "iterator = dataset.__iter__()\n",
    "\n",
    "num_features = X.shape[1]\n",
    "# initialiaze some random normally distributed weights\n",
    "weights = tf.random.normal( ( num_features , 1 ) ) \n",
    "bias = 0\n",
    "# initialize lists of to display change\n",
    "epochs_plot = list()\n",
    "loss_plot = list()\n",
    "\n",
    "for i in range( num_epochs ) :\n",
    "    epoch_loss = list()\n",
    "    # this will loop 40 times since 400 / 10\n",
    "    for b in range( int(num_samples/batch_size) ):\n",
    "        x_batch , y_batch = iterator.get_next()\n",
    "        # get the predictions from the x-vals times weights plus the biases\n",
    "        output = h( x_batch , weights , bias ) \n",
    "        # add the mean squared error from this iteration onto batch list\n",
    "        loss = epoch_loss.append( mean_squared_error( y_batch , output ).numpy() )\n",
    "\n",
    "        # start updating the weights and biases\n",
    "        ## the first three will find the multiplier by the learning rate to update W\n",
    "        dJ_dH = mean_squared_error_deriv( y_batch , output)\n",
    "        dH_dW = x_batch\n",
    "        dJ_dW = tf.reduce_mean( dJ_dH * dH_dW )\n",
    "        # this identifies what to multiply the learning rate by to update B\n",
    "        dJ_dB = tf.reduce_mean( dJ_dH )\n",
    "\n",
    "        # updates your weights as the learning rate times your \n",
    "        weights -= ( learning_rate * dJ_dW )\n",
    "        bias -= ( learning_rate * dJ_dB ) \n",
    "\n",
    "    # we are optimizing for mean squared error while \n",
    "    loss = np.array( epoch_loss ).mean()\n",
    "    epochs_plot.append( i + 1 )\n",
    "    loss_plot.append( loss ) \n",
    "    print( 'Loss is {}'.format( round(loss, 4) ) ) "
   ]
  },
  {
   "cell_type": "code",
   "execution_count": 16,
   "metadata": {},
   "outputs": [
    {
     "data": {
      "image/png": "[encoded data removed]",
      "text/plain": [
       "<Figure size 432x288 with 1 Axes>"
      ]
     },
     "metadata": {
      "needs_background": "light"
     },
     "output_type": "display_data"
    }
   ],
   "source": [
    "plt.plot( epochs_plot , loss_plot ) \n",
    "plt.show()"
   ]
  },
  {
   "cell_type": "code",
   "execution_count": 28,
   "metadata": {},
   "outputs": [
    {
     "name": "stdout",
     "output_type": "stream",
     "text": [
      "Mean Absolute Error = 0.13226215541362762\n"
     ]
    }
   ],
   "source": [
    "output = h( test_X , weights , bias ) \n",
    "labels = test_y\n",
    "\n",
    "accuracy_op = tf.metrics.MeanAbsoluteError() \n",
    "accuracy_op.update_state(labels, output)\n",
    "print( 'Mean Absolute Error = {}'.format(accuracy_op.result().numpy()))"
   ]
  },
  {
   "cell_type": "markdown",
   "metadata": {},
   "source": [
    "# 5.2 Capacity, Overfitting, and Underfitting\n",
    "The ability of a model to be trained and subsequently perform well on new inputs is called __generalization__.  To get a sense of expectation of the models performance initially, we can generate the **training error**.  However the creme de la creme of the modeling process revolves around the __test error__.  It is best practice to compare errors of multiple model builds on a __holdout set__.  \n",
    "\n",
    "In general, the field of **statistical learning theory** will shed light onto best practices when trying tomake sure model generalizes well to unseen inputs.  When we split our data into __training__ and **test** sets, we make a couple of assumptions along the way called __i.i.d assumptions__:\n",
    "1) the examples (rows) are **independent** of each other\n",
    "2) the train and test set are __identically distributed__.  \n",
    "Overall, these assumptions help us fit our data into what's called the **data generating distribution** which can be studied and quantified.  Additionally, the two biggest drivers in determining how well a model will generalize to new inputs is:\n",
    "- How well the model minimizes the training error\n",
    "- How small the gap can be made between the training and test error set\n",
    "The factors that shed light onto how well the model is doing in the abover two areas are __overfitting__ and **underfitting**.  The ability of a model to fit many new, unseen inputs is called its __capacity__.  Machine learning models will generally perform best when their capacity matches the true complexity of the task.  \n",
    "\n",
    "## 5.2.1 The \"No Free Lunch Theorem\"\n",
    "Contrary to logic, machine learning hopes to find rules that are _probably_ good for _most_ of the members of the training set.  The **no free lunch theorem** states that, averaged over all possible data generating distributions, every classification algorithm has the same error rate when classifying unobserved points.  Thus, our goal as machine learning researchers should not be to find an optimal model for all scenarios.  Instead, our goal should be to understand which distributions make sense in real life to and fit models with those distributions to the real life scenario.  \n",
    "\n",
    "## 5.2.2 Regularization\n",
    "So far we have just described increasing or decreasing the capacity space of our algorithms when it comes to honing the models so that they generalize well.  Next up, is what is called __regularization__.  To quantify this scenario, let's create a variable measuring **weight decay**.  $J(w) = MSE_{train} + \\lambda w^{T}w$.  Our goal is to minimize mean squared error with consideration for weights vector to have a smaller $L_{2}$ norm.  Our lambda here is a value chosen ahead of time that we will use as to whether we prefer smaller weights.  Underfit models would contain a $\\lambda$ that is too large or excessive.  Overfit models would have a smaller $\\lambda$.  The properly fit models that generalize well to unseen inputs would have a $\\lambda$ in between this.  This process of quantifying the weight decay and optimizing for it is called __regularization__.  There are many regularizers we can add to a problem in order to help the models generalize better.  \n",
    "\n",
    "# 5.3 Hyperparameters\n",
    "Many models have settings within called **hyperparameters**.  To tune these settings, we create a __validation set__ from the training data.  Rule of thumb is to split off the test set and then to split the remaining data into 80% training and 20% validation.  \n",
    "\n",
    "## 5.3.1 Cross Validation\n",
    "When the test set is small, cross validation comes into play.  Cross validation, specfically _k-fold_ cross validation, splits the data into _i_ subsets where a model is trained on _i-1_ subsets and tested on the $i^{th}$ subset.  This is performed for all subsets throughout.  One problem with this is that there is no unbiased estimator for the average error from these subsets but no one seems to care.  \n",
    "\n",
    "# 5.4 Estimators, Bias, and Variance\n",
    "Using statistics to quantify parameter estimation, bias, and variance helps with notating concepts such as generalization, underfitting, and overfitting.  \n",
    "\n",
    "## 5.4.1 Point Estimation\n",
    "Point estimation is the attempt to find the single best prediction of some quantity of interest.  Point estimators are can be chosen as one likes but not all point estimators are created equal and some generalize better than others.  Point estimators are a function of the data values, and with the data values being chose at random, our point estimators are random variables.  From here we will discuss the most studied properties of these point estimators.  \n",
    "\n",
    "## 5.4.2 Bias\n",
    "The bias estimator is defined as:\n",
    "$bias(\\hat{\\theta_{m}}) = E(\\hat{\\theta_{m}}) - \\theta$\n",
    "Thus, it's the difference between the expected value of our point estimator and the true value.  A point estimator $\\hat{\\theta_{m}}$ is said to be **unbiased** if $bias(\\hat{\\theta_{m}})$ = 0 which would imply $E(\\hat{\\theta_{m}}) = \\theta$ based on our equation above. A point estimator $\\hat{\\theta_{m}}$ is said to be __asymptotically unbiased__ if $\\lim_{m\\to\\infty}bias\\hat{\\theta_{m}} = 0$ whic implies $\\lim_{m\\to\\infty}E(\\hat{\\theta_{m})} = \\theta$\n",
    "\n",
    "Cue up three to four examples of unbiased estimators being chosen (like in STA with Bagui).  \n",
    "\n",
    "## 5.4.3 Variance and Standard Error\n",
    "As we have looked at point estimation, there is also an effore we must undertake to look at how estimating this value will vary.  That __variance__ is denoted as $V(\\hat\\theta)$ with the square root of this being called the **standard error** labelled $SE(\\hat\\theta)$.  The $SE(\\hat\\theta) = \\frac{\\sigma}{\\sqrt{m}}$.  Then, the 95% confidence interval centered on the mean $\\hat\\mu_{m}$ is $\\hat\\mu - 1.96SE(\\hat\\mu_{m}), \\hat\\mu_{m} + 1.96SE(\\hat\\mu_{m})$.  \n",
    "\n",
    "## 5.4.4 Trading off Bias and Variance to Minimize Mean Squared Error\n",
    "Bias measures the expected deviation from the true value of the function or parameter.  Variance measures the dispersion from the expected estimator value that any particular sampling of the data is likely to cause.  Would you rather have larger bias?  Or, larger variance?  Using MSE on the estimates wraps Bias and Variance into one equation.  __Consistency__ is the property that ensures that the bias induced by the estimator diminishes as the number of data examples grows.  \n",
    "\n",
    "# 5.5 Maximum Likelihood Estimation\n",
    "Assuming a parametric model of $m$ examples drawn independently from the true but unknown data generating distribution $p_{data}(x)$, we can expect the Maximum Likelihood Estimator (MLE) for $\\theta$ is: $\\theta_{ML} = arg max_{\\theta}p_{model}(X; \\theta) = arg max_{\\theta}\\prod_{i = 1}^{m}p_{model}(x^{i}; \\theta$.  This process of finding the maximum likelihood estimate becomes known as minimizing or maximizing the Kullback-Leibler (KL) divergence.  KL divergence has a minimum value of zero.  \n",
    "\n",
    "## 5.5.1 Conditional Log-likelihood and Mean Square Error\n",
    "Within the context of supervised learning, our goal is to identify the $y$ value that is most likely given our list of x's.  Thus, $\\theta_{ML} = arg max_{\\theta} P(Y | X; \\theta)$.  Or, if i.i.d., $\\theta_{ML} = arg max_{\\theta} \\sum_{i=1}^{m}log P(y^{i} | x^(i); \\theta)$.  "
   ]
  }
 ],
 "metadata": {
  "@webio": {
   "lastCommId": null,
   "lastKernelId": null
  },
  "kernelspec": {
   "display_name": "Python 3",
   "language": "python",
   "name": "python3"
  },
  "language_info": {
   "codemirror_mode": {
    "name": "ipython",
    "version": 3
   },
   "file_extension": ".py",
   "mimetype": "text/x-python",
   "name": "python",
   "nbconvert_exporter": "python",
   "pygments_lexer": "ipython3",
   "version": "3.7.3"
  },
  "varInspector": {
   "cols": {
    "lenName": 16,
    "lenType": 16,
    "lenVar": 40
   },
   "kernels_config": {
    "python": {
     "delete_cmd_postfix": "",
     "delete_cmd_prefix": "del ",
     "library": "var_list.py",
     "varRefreshCmd": "print(var_dic_list())"
    },
    "r": {
     "delete_cmd_postfix": ") ",
     "delete_cmd_prefix": "rm(",
     "library": "var_list.r",
     "varRefreshCmd": "cat(var_dic_list()) "
    }
   },
   "types_to_exclude": [
    "module",
    "function",
    "builtin_function_or_method",
    "instance",
    "_Feature"
   ],
   "window_display": false
  }
 },
 "nbformat": 4,
 "nbformat_minor": 2
}
